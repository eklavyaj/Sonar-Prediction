{
 "cells": [
  {
   "cell_type": "markdown",
   "metadata": {},
   "source": [
    "The whole sonar data set contains 111 patterns obtained by bouncing sonar signals off a metal cylinder at various angles and under various conditions.  The whole sonar data set contains 97 patterns obtained from rocks under similar conditions.  The objective is to predict if the returning signal is from a rock or a mine using a single layer neural network."
   ]
  },
  {
   "cell_type": "code",
   "execution_count": 140,
   "metadata": {},
   "outputs": [],
   "source": [
    "import numpy as np\n",
    "import pandas as pd\n",
    "from keras.layers import Dense\n",
    "from keras.models import Sequential\n",
    "from sklearn.model_selection import train_test_split\n",
    "from tensorflow.keras.metrics import Accuracy\n",
    "import matplotlib.pyplot as plt"
   ]
  },
  {
   "cell_type": "code",
   "execution_count": 245,
   "metadata": {
    "scrolled": true
   },
   "outputs": [
    {
     "name": "stderr",
     "output_type": "stream",
     "text": [
      "/home/eklavya/anaconda3/lib/python3.7/site-packages/ipykernel_launcher.py:6: SettingWithCopyWarning: \n",
      "A value is trying to be set on a copy of a slice from a DataFrame\n",
      "\n",
      "See the caveats in the documentation: https://pandas.pydata.org/pandas-docs/stable/user_guide/indexing.html#returning-a-view-versus-a-copy\n",
      "  \n",
      "/home/eklavya/anaconda3/lib/python3.7/site-packages/ipykernel_launcher.py:7: SettingWithCopyWarning: \n",
      "A value is trying to be set on a copy of a slice from a DataFrame\n",
      "\n",
      "See the caveats in the documentation: https://pandas.pydata.org/pandas-docs/stable/user_guide/indexing.html#returning-a-view-versus-a-copy\n",
      "  import sys\n"
     ]
    }
   ],
   "source": [
    "df = pd.read_csv('sonar.csv',names=range(0,61))\n",
    "df.shape\n",
    "\n",
    "X=df.iloc[:,:-1]\n",
    "y=df.iloc[:,-1]\n",
    "y[y=='R']=0\n",
    "y[y=='M']=1"
   ]
  },
  {
   "cell_type": "code",
   "execution_count": 274,
   "metadata": {},
   "outputs": [],
   "source": [
    "X_train, X_test, y_train, y_test  = train_test_split(X,y, test_size=0.2, random_state=42)\n"
   ]
  },
  {
   "cell_type": "code",
   "execution_count": 275,
   "metadata": {},
   "outputs": [],
   "source": [
    "model = Sequential()\n",
    "model.add(Dense(1,input_shape=(60,), activation='sigmoid'))"
   ]
  },
  {
   "cell_type": "code",
   "execution_count": 276,
   "metadata": {},
   "outputs": [],
   "source": [
    "model.compile(loss='binary_crossentropy' , optimizer='adam', metrics=['accuracy'])"
   ]
  },
  {
   "cell_type": "code",
   "execution_count": 277,
   "metadata": {
    "scrolled": true
   },
   "outputs": [
    {
     "name": "stdout",
     "output_type": "stream",
     "text": [
      "Epoch 1/100\n",
      "166/166 [==============================] - 0s 609us/step - loss: 0.6923 - accuracy: 0.5000\n",
      "Epoch 2/100\n",
      "166/166 [==============================] - 0s 232us/step - loss: 0.6832 - accuracy: 0.4940\n",
      "Epoch 3/100\n",
      "166/166 [==============================] - 0s 196us/step - loss: 0.6789 - accuracy: 0.5422\n",
      "Epoch 4/100\n",
      "166/166 [==============================] - 0s 238us/step - loss: 0.6743 - accuracy: 0.5723\n",
      "Epoch 5/100\n",
      "166/166 [==============================] - 0s 258us/step - loss: 0.6706 - accuracy: 0.5723\n",
      "Epoch 6/100\n",
      "166/166 [==============================] - 0s 212us/step - loss: 0.6661 - accuracy: 0.5843\n",
      "Epoch 7/100\n",
      "166/166 [==============================] - 0s 249us/step - loss: 0.6624 - accuracy: 0.6265\n",
      "Epoch 8/100\n",
      "166/166 [==============================] - 0s 241us/step - loss: 0.6588 - accuracy: 0.6145\n",
      "Epoch 9/100\n",
      "166/166 [==============================] - 0s 239us/step - loss: 0.6549 - accuracy: 0.6325\n",
      "Epoch 10/100\n",
      "166/166 [==============================] - 0s 224us/step - loss: 0.6518 - accuracy: 0.6446\n",
      "Epoch 11/100\n",
      "166/166 [==============================] - 0s 199us/step - loss: 0.6472 - accuracy: 0.6747\n",
      "Epoch 12/100\n",
      "166/166 [==============================] - 0s 190us/step - loss: 0.6452 - accuracy: 0.6747\n",
      "Epoch 13/100\n",
      "166/166 [==============================] - 0s 238us/step - loss: 0.6406 - accuracy: 0.6747\n",
      "Epoch 14/100\n",
      "166/166 [==============================] - 0s 243us/step - loss: 0.6378 - accuracy: 0.6867\n",
      "Epoch 15/100\n",
      "166/166 [==============================] - 0s 257us/step - loss: 0.6354 - accuracy: 0.6928\n",
      "Epoch 16/100\n",
      "166/166 [==============================] - 0s 253us/step - loss: 0.6312 - accuracy: 0.6988\n",
      "Epoch 17/100\n",
      "166/166 [==============================] - 0s 243us/step - loss: 0.6280 - accuracy: 0.7169\n",
      "Epoch 18/100\n",
      "166/166 [==============================] - 0s 253us/step - loss: 0.6262 - accuracy: 0.7048\n",
      "Epoch 19/100\n",
      "166/166 [==============================] - 0s 234us/step - loss: 0.6241 - accuracy: 0.7169\n",
      "Epoch 20/100\n",
      "166/166 [==============================] - 0s 243us/step - loss: 0.6197 - accuracy: 0.7229\n",
      "Epoch 21/100\n",
      "166/166 [==============================] - 0s 251us/step - loss: 0.6170 - accuracy: 0.7169\n",
      "Epoch 22/100\n",
      "166/166 [==============================] - 0s 276us/step - loss: 0.6154 - accuracy: 0.7530\n",
      "Epoch 23/100\n",
      "166/166 [==============================] - 0s 252us/step - loss: 0.6116 - accuracy: 0.7410\n",
      "Epoch 24/100\n",
      "166/166 [==============================] - 0s 273us/step - loss: 0.6096 - accuracy: 0.7108\n",
      "Epoch 25/100\n",
      "166/166 [==============================] - 0s 214us/step - loss: 0.6061 - accuracy: 0.7108\n",
      "Epoch 26/100\n",
      "166/166 [==============================] - 0s 248us/step - loss: 0.6036 - accuracy: 0.7169\n",
      "Epoch 27/100\n",
      "166/166 [==============================] - 0s 266us/step - loss: 0.6032 - accuracy: 0.7470\n",
      "Epoch 28/100\n",
      "166/166 [==============================] - 0s 221us/step - loss: 0.5985 - accuracy: 0.7410\n",
      "Epoch 29/100\n",
      "166/166 [==============================] - 0s 253us/step - loss: 0.5961 - accuracy: 0.7349\n",
      "Epoch 30/100\n",
      "166/166 [==============================] - 0s 241us/step - loss: 0.5936 - accuracy: 0.7349\n",
      "Epoch 31/100\n",
      "166/166 [==============================] - 0s 237us/step - loss: 0.5916 - accuracy: 0.7229\n",
      "Epoch 32/100\n",
      "166/166 [==============================] - 0s 253us/step - loss: 0.5897 - accuracy: 0.7530\n",
      "Epoch 33/100\n",
      "166/166 [==============================] - 0s 191us/step - loss: 0.5900 - accuracy: 0.7410\n",
      "Epoch 34/100\n",
      "166/166 [==============================] - 0s 256us/step - loss: 0.5849 - accuracy: 0.7590\n",
      "Epoch 35/100\n",
      "166/166 [==============================] - 0s 227us/step - loss: 0.5851 - accuracy: 0.7410\n",
      "Epoch 36/100\n",
      "166/166 [==============================] - 0s 267us/step - loss: 0.5808 - accuracy: 0.7530\n",
      "Epoch 37/100\n",
      "166/166 [==============================] - 0s 226us/step - loss: 0.5793 - accuracy: 0.7590\n",
      "Epoch 38/100\n",
      "166/166 [==============================] - 0s 266us/step - loss: 0.5775 - accuracy: 0.7711\n",
      "Epoch 39/100\n",
      "166/166 [==============================] - 0s 232us/step - loss: 0.5758 - accuracy: 0.7711\n",
      "Epoch 40/100\n",
      "166/166 [==============================] - 0s 259us/step - loss: 0.5730 - accuracy: 0.7651\n",
      "Epoch 41/100\n",
      "166/166 [==============================] - 0s 242us/step - loss: 0.5712 - accuracy: 0.7470\n",
      "Epoch 42/100\n",
      "166/166 [==============================] - 0s 259us/step - loss: 0.5694 - accuracy: 0.7470\n",
      "Epoch 43/100\n",
      "166/166 [==============================] - 0s 225us/step - loss: 0.5681 - accuracy: 0.7410\n",
      "Epoch 44/100\n",
      "166/166 [==============================] - 0s 280us/step - loss: 0.5660 - accuracy: 0.7590\n",
      "Epoch 45/100\n",
      "166/166 [==============================] - 0s 239us/step - loss: 0.5644 - accuracy: 0.7711\n",
      "Epoch 46/100\n",
      "166/166 [==============================] - 0s 227us/step - loss: 0.5627 - accuracy: 0.7711\n",
      "Epoch 47/100\n",
      "166/166 [==============================] - 0s 270us/step - loss: 0.5611 - accuracy: 0.7651\n",
      "Epoch 48/100\n",
      "166/166 [==============================] - 0s 228us/step - loss: 0.5619 - accuracy: 0.7410\n",
      "Epoch 49/100\n",
      "166/166 [==============================] - 0s 269us/step - loss: 0.5575 - accuracy: 0.7711\n",
      "Epoch 50/100\n",
      "166/166 [==============================] - 0s 232us/step - loss: 0.5562 - accuracy: 0.7711\n",
      "Epoch 51/100\n",
      "166/166 [==============================] - 0s 279us/step - loss: 0.5545 - accuracy: 0.7711\n",
      "Epoch 52/100\n",
      "166/166 [==============================] - 0s 204us/step - loss: 0.5530 - accuracy: 0.7831\n",
      "Epoch 53/100\n",
      "166/166 [==============================] - 0s 269us/step - loss: 0.5527 - accuracy: 0.7711\n",
      "Epoch 54/100\n",
      "166/166 [==============================] - 0s 252us/step - loss: 0.5505 - accuracy: 0.7651\n",
      "Epoch 55/100\n",
      "166/166 [==============================] - 0s 415us/step - loss: 0.5494 - accuracy: 0.7590\n",
      "Epoch 56/100\n",
      "166/166 [==============================] - 0s 488us/step - loss: 0.5476 - accuracy: 0.7711\n",
      "Epoch 57/100\n",
      "166/166 [==============================] - 0s 460us/step - loss: 0.5455 - accuracy: 0.7771\n",
      "Epoch 58/100\n",
      "166/166 [==============================] - 0s 430us/step - loss: 0.5457 - accuracy: 0.7892\n",
      "Epoch 59/100\n",
      "166/166 [==============================] - 0s 345us/step - loss: 0.5442 - accuracy: 0.7771\n",
      "Epoch 60/100\n",
      "166/166 [==============================] - 0s 300us/step - loss: 0.5416 - accuracy: 0.7892\n",
      "Epoch 61/100\n",
      "166/166 [==============================] - 0s 400us/step - loss: 0.5406 - accuracy: 0.7651\n",
      "Epoch 62/100\n",
      "166/166 [==============================] - 0s 390us/step - loss: 0.5408 - accuracy: 0.7651\n",
      "Epoch 63/100\n",
      "166/166 [==============================] - 0s 413us/step - loss: 0.5384 - accuracy: 0.7831\n",
      "Epoch 64/100\n",
      "166/166 [==============================] - 0s 428us/step - loss: 0.5391 - accuracy: 0.8012\n",
      "Epoch 65/100\n",
      "166/166 [==============================] - 0s 329us/step - loss: 0.5360 - accuracy: 0.7651\n",
      "Epoch 66/100\n",
      "166/166 [==============================] - 0s 364us/step - loss: 0.5342 - accuracy: 0.7952\n",
      "Epoch 67/100\n",
      "166/166 [==============================] - 0s 286us/step - loss: 0.5345 - accuracy: 0.8072\n",
      "Epoch 68/100\n",
      "166/166 [==============================] - 0s 285us/step - loss: 0.5327 - accuracy: 0.7952\n",
      "Epoch 69/100\n",
      "166/166 [==============================] - 0s 221us/step - loss: 0.5313 - accuracy: 0.7711\n",
      "Epoch 70/100\n",
      "166/166 [==============================] - 0s 282us/step - loss: 0.5298 - accuracy: 0.7892\n",
      "Epoch 71/100\n",
      "166/166 [==============================] - 0s 241us/step - loss: 0.5289 - accuracy: 0.8072\n",
      "Epoch 72/100\n",
      "166/166 [==============================] - 0s 214us/step - loss: 0.5286 - accuracy: 0.7892\n",
      "Epoch 73/100\n",
      "166/166 [==============================] - 0s 242us/step - loss: 0.5265 - accuracy: 0.7952\n",
      "Epoch 74/100\n",
      "166/166 [==============================] - 0s 240us/step - loss: 0.5252 - accuracy: 0.7892\n",
      "Epoch 75/100\n",
      "166/166 [==============================] - 0s 233us/step - loss: 0.5244 - accuracy: 0.7831\n",
      "Epoch 76/100\n",
      "166/166 [==============================] - 0s 267us/step - loss: 0.5230 - accuracy: 0.7892\n",
      "Epoch 77/100\n",
      "166/166 [==============================] - 0s 273us/step - loss: 0.5223 - accuracy: 0.7831\n",
      "Epoch 78/100\n",
      "166/166 [==============================] - 0s 344us/step - loss: 0.5214 - accuracy: 0.7952\n",
      "Epoch 79/100\n",
      "166/166 [==============================] - 0s 307us/step - loss: 0.5211 - accuracy: 0.7711\n",
      "Epoch 80/100\n",
      "166/166 [==============================] - 0s 290us/step - loss: 0.5196 - accuracy: 0.7771\n",
      "Epoch 81/100\n",
      "166/166 [==============================] - 0s 263us/step - loss: 0.5187 - accuracy: 0.8012\n",
      "Epoch 82/100\n",
      "166/166 [==============================] - 0s 262us/step - loss: 0.5174 - accuracy: 0.8072\n",
      "Epoch 83/100\n",
      "166/166 [==============================] - 0s 246us/step - loss: 0.5169 - accuracy: 0.7831\n",
      "Epoch 84/100\n",
      "166/166 [==============================] - 0s 249us/step - loss: 0.5155 - accuracy: 0.7831\n",
      "Epoch 85/100\n",
      "166/166 [==============================] - 0s 250us/step - loss: 0.5158 - accuracy: 0.7711\n",
      "Epoch 86/100\n",
      "166/166 [==============================] - 0s 227us/step - loss: 0.5149 - accuracy: 0.7952\n",
      "Epoch 87/100\n",
      "166/166 [==============================] - 0s 243us/step - loss: 0.5133 - accuracy: 0.7771\n",
      "Epoch 88/100\n",
      "166/166 [==============================] - 0s 242us/step - loss: 0.5119 - accuracy: 0.8072\n",
      "Epoch 89/100\n",
      "166/166 [==============================] - 0s 252us/step - loss: 0.5111 - accuracy: 0.8072\n",
      "Epoch 90/100\n",
      "166/166 [==============================] - 0s 247us/step - loss: 0.5110 - accuracy: 0.7952\n",
      "Epoch 91/100\n",
      "166/166 [==============================] - 0s 254us/step - loss: 0.5109 - accuracy: 0.7892\n",
      "Epoch 92/100\n",
      "166/166 [==============================] - 0s 259us/step - loss: 0.5089 - accuracy: 0.7952\n",
      "Epoch 93/100\n",
      "166/166 [==============================] - 0s 340us/step - loss: 0.5081 - accuracy: 0.7952\n",
      "Epoch 94/100\n",
      "166/166 [==============================] - 0s 321us/step - loss: 0.5075 - accuracy: 0.8012\n",
      "Epoch 95/100\n",
      "166/166 [==============================] - 0s 306us/step - loss: 0.5075 - accuracy: 0.7952\n",
      "Epoch 96/100\n",
      "166/166 [==============================] - 0s 231us/step - loss: 0.5053 - accuracy: 0.8012\n",
      "Epoch 97/100\n",
      "166/166 [==============================] - 0s 221us/step - loss: 0.5052 - accuracy: 0.7771\n",
      "Epoch 98/100\n",
      "166/166 [==============================] - 0s 244us/step - loss: 0.5045 - accuracy: 0.7952\n",
      "Epoch 99/100\n",
      "166/166 [==============================] - 0s 218us/step - loss: 0.5033 - accuracy: 0.8072\n",
      "Epoch 100/100\n",
      "166/166 [==============================] - 0s 264us/step - loss: 0.5032 - accuracy: 0.8072\n"
     ]
    }
   ],
   "source": [
    "history = model.fit(X_train, y_train, epochs=100 , batch_size=4)"
   ]
  },
  {
   "cell_type": "code",
   "execution_count": 278,
   "metadata": {},
   "outputs": [],
   "source": [
    "loss = history.history['loss']"
   ]
  },
  {
   "cell_type": "code",
   "execution_count": 279,
   "metadata": {},
   "outputs": [],
   "source": [
    "acc = history.history['accuracy']"
   ]
  },
  {
   "cell_type": "code",
   "execution_count": 280,
   "metadata": {},
   "outputs": [
    {
     "data": {
      "image/png": "[encoded data removed]",
      "text/plain": [
       "<Figure size 432x288 with 1 Axes>"
      ]
     },
     "metadata": {
      "needs_background": "light"
     },
     "output_type": "display_data"
    }
   ],
   "source": [
    "%matplotlib inline\n",
    "epochs = range(1 , len(loss) +1)\n",
    "plt.plot(epochs, loss, 'ro' , label='Training loss')\n",
    "plt.plot(epochs, acc, label='Accuracy')\n",
    "plt.legend()\n",
    "plt.show()"
   ]
  },
  {
   "cell_type": "code",
   "execution_count": 281,
   "metadata": {},
   "outputs": [
    {
     "name": "stdout",
     "output_type": "stream",
     "text": [
      "42/42 [==============================] - 0s 461us/step\n"
     ]
    },
    {
     "data": {
      "text/plain": [
       "[0.4375831413836706, 0.8571428656578064]"
      ]
     },
     "execution_count": 281,
     "metadata": {},
     "output_type": "execute_result"
    }
   ],
   "source": [
    "#loss and accuracy on test set\n",
    "model.evaluate(X_test, y_test)"
   ]
  },
  {
   "cell_type": "code",
   "execution_count": 283,
   "metadata": {
    "scrolled": true
   },
   "outputs": [],
   "source": [
    "#predicting the labels for our testing set\n",
    "preds= model.predict(X_test)"
   ]
  },
  {
   "cell_type": "code",
   "execution_count": 284,
   "metadata": {},
   "outputs": [
    {
     "data": {
      "text/plain": [
       "(array([4., 1., 3., 6., 4., 9., 3., 5., 4., 3.]),\n",
       " array([0.12578925, 0.205027  , 0.28426474, 0.3635025 , 0.44274026,\n",
       "        0.521978  , 0.6012158 , 0.6804535 , 0.75969124, 0.838929  ,\n",
       "        0.91816676], dtype=float32),\n",
       " <a list of 10 Patch objects>)"
      ]
     },
     "execution_count": 284,
     "metadata": {},
     "output_type": "execute_result"
    },
    {
     "data": {
      "image/png": "[encoded data removed]",
      "text/plain": [
       "<Figure size 432x288 with 1 Axes>"
      ]
     },
     "metadata": {
      "needs_background": "light"
     },
     "output_type": "display_data"
    }
   ],
   "source": [
    "#distribution of prediction probabilities\n",
    "plt.hist(preds)"
   ]
  },
  {
   "cell_type": "code",
   "execution_count": 285,
   "metadata": {},
   "outputs": [],
   "source": [
    "test = y_test.to_numpy().reshape(-1,1).astype(int)"
   ]
  },
  {
   "cell_type": "code",
   "execution_count": 286,
   "metadata": {},
   "outputs": [
    {
     "data": {
      "text/plain": [
       "0.85714287"
      ]
     },
     "execution_count": 286,
     "metadata": {},
     "output_type": "execute_result"
    }
   ],
   "source": [
    "m = BinaryAccuracy()\n",
    "m.update_state(test, preds)\n",
    "m.result().numpy()"
   ]
  },
  {
   "cell_type": "code",
   "execution_count": 287,
   "metadata": {
    "scrolled": true
   },
   "outputs": [
    {
     "data": {
      "text/plain": [
       "array([['M'],\n",
       "       ['R'],\n",
       "       ['M'],\n",
       "       ['R'],\n",
       "       ['M'],\n",
       "       ['M'],\n",
       "       ['M'],\n",
       "       ['M'],\n",
       "       ['R'],\n",
       "       ['M'],\n",
       "       ['M'],\n",
       "       ['R'],\n",
       "       ['R'],\n",
       "       ['M'],\n",
       "       ['M'],\n",
       "       ['M'],\n",
       "       ['M'],\n",
       "       ['M'],\n",
       "       ['M'],\n",
       "       ['R'],\n",
       "       ['M'],\n",
       "       ['R'],\n",
       "       ['M'],\n",
       "       ['M'],\n",
       "       ['R'],\n",
       "       ['R'],\n",
       "       ['R'],\n",
       "       ['R'],\n",
       "       ['M'],\n",
       "       ['M'],\n",
       "       ['M'],\n",
       "       ['R'],\n",
       "       ['R'],\n",
       "       ['M'],\n",
       "       ['M'],\n",
       "       ['M'],\n",
       "       ['M'],\n",
       "       ['M'],\n",
       "       ['R'],\n",
       "       ['M'],\n",
       "       ['R'],\n",
       "       ['R']], dtype='<U32')"
      ]
     },
     "execution_count": 287,
     "metadata": {},
     "output_type": "execute_result"
    }
   ],
   "source": [
    "#predicted values in terms of M and R for the test dataset\n",
    "pred=preds.astype(str)\n",
    "pred[preds>=0.5]=\"M\"\n",
    "pred[preds<0.5]=\"R\"\n",
    "pred "
   ]
  },
  {
   "cell_type": "code",
   "execution_count": null,
   "metadata": {},
   "outputs": [],
   "source": []
  }
 ],
 "metadata": {
  "kernelspec": {
   "display_name": "Python 3",
   "language": "python",
   "name": "python3"
  },
  "language_info": {
   "codemirror_mode": {
    "name": "ipython",
    "version": 3
   },
   "file_extension": ".py",
   "mimetype": "text/x-python",
   "name": "python",
   "nbconvert_exporter": "python",
   "pygments_lexer": "ipython3",
   "version": "3.7.6"
  }
 },
 "nbformat": 4,
 "nbformat_minor": 4
}
